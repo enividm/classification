{
 "cells": [
  {
   "cell_type": "code",
   "execution_count": 1,
   "id": "a62c1704",
   "metadata": {},
   "outputs": [],
   "source": [
    "import  numpy as np\n",
    "import pandas as pd\n",
    "import matplotlib.pyplot as plt\n",
    "file = pd.read_csv(\"housing2.csv\")"
   ]
  },
  {
   "cell_type": "code",
   "execution_count": 2,
   "id": "8b9a3ae8",
   "metadata": {},
   "outputs": [
    {
     "data": {
      "text/html": [
       "<div>\n",
       "<style scoped>\n",
       "    .dataframe tbody tr th:only-of-type {\n",
       "        vertical-align: middle;\n",
       "    }\n",
       "\n",
       "    .dataframe tbody tr th {\n",
       "        vertical-align: top;\n",
       "    }\n",
       "\n",
       "    .dataframe thead th {\n",
       "        text-align: right;\n",
       "    }\n",
       "</style>\n",
       "<table border=\"1\" class=\"dataframe\">\n",
       "  <thead>\n",
       "    <tr style=\"text-align: right;\">\n",
       "      <th></th>\n",
       "      <th>longitude</th>\n",
       "      <th>latitude</th>\n",
       "      <th>housing_median_age</th>\n",
       "      <th>total_rooms</th>\n",
       "      <th>total_bedrooms</th>\n",
       "      <th>population</th>\n",
       "      <th>households</th>\n",
       "      <th>median_income</th>\n",
       "      <th>median_house_value</th>\n",
       "      <th>ocean_proximity</th>\n",
       "    </tr>\n",
       "  </thead>\n",
       "  <tbody>\n",
       "    <tr>\n",
       "      <th>0</th>\n",
       "      <td>-122.23</td>\n",
       "      <td>37.88</td>\n",
       "      <td>41.0</td>\n",
       "      <td>880.0</td>\n",
       "      <td>129.0</td>\n",
       "      <td>322.0</td>\n",
       "      <td>126.0</td>\n",
       "      <td>8.3252</td>\n",
       "      <td>452600.0</td>\n",
       "      <td>NEAR BAY</td>\n",
       "    </tr>\n",
       "    <tr>\n",
       "      <th>1</th>\n",
       "      <td>-122.22</td>\n",
       "      <td>37.86</td>\n",
       "      <td>21.0</td>\n",
       "      <td>7099.0</td>\n",
       "      <td>1106.0</td>\n",
       "      <td>2401.0</td>\n",
       "      <td>1138.0</td>\n",
       "      <td>8.3014</td>\n",
       "      <td>358500.0</td>\n",
       "      <td>NEAR BAY</td>\n",
       "    </tr>\n",
       "    <tr>\n",
       "      <th>2</th>\n",
       "      <td>-122.24</td>\n",
       "      <td>37.85</td>\n",
       "      <td>52.0</td>\n",
       "      <td>1467.0</td>\n",
       "      <td>190.0</td>\n",
       "      <td>496.0</td>\n",
       "      <td>177.0</td>\n",
       "      <td>7.2574</td>\n",
       "      <td>352100.0</td>\n",
       "      <td>NEAR BAY</td>\n",
       "    </tr>\n",
       "    <tr>\n",
       "      <th>3</th>\n",
       "      <td>-122.25</td>\n",
       "      <td>37.85</td>\n",
       "      <td>52.0</td>\n",
       "      <td>1274.0</td>\n",
       "      <td>235.0</td>\n",
       "      <td>558.0</td>\n",
       "      <td>219.0</td>\n",
       "      <td>5.6431</td>\n",
       "      <td>341300.0</td>\n",
       "      <td>NEAR BAY</td>\n",
       "    </tr>\n",
       "    <tr>\n",
       "      <th>4</th>\n",
       "      <td>-122.25</td>\n",
       "      <td>37.85</td>\n",
       "      <td>52.0</td>\n",
       "      <td>1627.0</td>\n",
       "      <td>280.0</td>\n",
       "      <td>565.0</td>\n",
       "      <td>259.0</td>\n",
       "      <td>3.8462</td>\n",
       "      <td>342200.0</td>\n",
       "      <td>NEAR BAY</td>\n",
       "    </tr>\n",
       "  </tbody>\n",
       "</table>\n",
       "</div>"
      ],
      "text/plain": [
       "   longitude  latitude  housing_median_age  total_rooms  total_bedrooms  \\\n",
       "0    -122.23     37.88                41.0        880.0           129.0   \n",
       "1    -122.22     37.86                21.0       7099.0          1106.0   \n",
       "2    -122.24     37.85                52.0       1467.0           190.0   \n",
       "3    -122.25     37.85                52.0       1274.0           235.0   \n",
       "4    -122.25     37.85                52.0       1627.0           280.0   \n",
       "\n",
       "   population  households  median_income  median_house_value ocean_proximity  \n",
       "0       322.0       126.0         8.3252            452600.0        NEAR BAY  \n",
       "1      2401.0      1138.0         8.3014            358500.0        NEAR BAY  \n",
       "2       496.0       177.0         7.2574            352100.0        NEAR BAY  \n",
       "3       558.0       219.0         5.6431            341300.0        NEAR BAY  \n",
       "4       565.0       259.0         3.8462            342200.0        NEAR BAY  "
      ]
     },
     "execution_count": 2,
     "metadata": {},
     "output_type": "execute_result"
    }
   ],
   "source": [
    "file.head()"
   ]
  },
  {
   "cell_type": "code",
   "execution_count": 3,
   "id": "c34cee34",
   "metadata": {},
   "outputs": [],
   "source": [
    "file = file[['latitude',\n",
    "'longitude',\n",
    "'housing_median_age',\n",
    "'total_rooms',\n",
    "'total_bedrooms',\n",
    "'population',\n",
    "'households',\n",
    "'median_income',\n",
    "'median_house_value',\n",
    "'ocean_proximity']]"
   ]
  },
  {
   "cell_type": "code",
   "execution_count": 4,
   "id": "5e8df3c3",
   "metadata": {},
   "outputs": [],
   "source": [
    "file.fillna(0, inplace = True)"
   ]
  },
  {
   "cell_type": "code",
   "execution_count": 5,
   "id": "4d6c1663",
   "metadata": {},
   "outputs": [],
   "source": [
    "file[\"bedrooms_per_room\"] = file.total_bedrooms / file.total_rooms"
   ]
  },
  {
   "cell_type": "code",
   "execution_count": 6,
   "id": "127cde84",
   "metadata": {},
   "outputs": [],
   "source": [
    "file[\"population_per_household\"] = file.population / file.households"
   ]
  },
  {
   "cell_type": "code",
   "execution_count": 7,
   "id": "d71f9ab4",
   "metadata": {},
   "outputs": [],
   "source": [
    "mean = file[\"median_house_value\"].mean()\n",
    "file[\"above_average\"] = (file[\"median_house_value\"] > mean).astype(int)"
   ]
  },
  {
   "cell_type": "code",
   "execution_count": 8,
   "id": "7385b649",
   "metadata": {},
   "outputs": [
    {
     "data": {
      "text/plain": [
       "<1H OCEAN     9136\n",
       "INLAND        6551\n",
       "NEAR OCEAN    2658\n",
       "NEAR BAY      2290\n",
       "ISLAND           5\n",
       "Name: ocean_proximity, dtype: int64"
      ]
     },
     "execution_count": 8,
     "metadata": {},
     "output_type": "execute_result"
    }
   ],
   "source": [
    "#Q1\n",
    "file.ocean_proximity.value_counts()"
   ]
  },
  {
   "cell_type": "code",
   "execution_count": 9,
   "id": "5a03d219",
   "metadata": {},
   "outputs": [],
   "source": [
    "from sklearn.model_selection import train_test_split\n",
    "x = file.drop(\"median_house_value\", axis = 1)\n",
    "y = file[\"median_house_value\"]"
   ]
  },
  {
   "cell_type": "code",
   "execution_count": 10,
   "id": "a657ea30",
   "metadata": {},
   "outputs": [],
   "source": [
    "x_train,x_t,y_train,y_t = train_test_split(x, y, test_size = 0.4, random_state = 42)\n",
    "x_test,x_val,y_test,y_val = train_test_split(x_t,y_t, test_size = 0.5, random_state = 42)"
   ]
  },
  {
   "cell_type": "code",
   "execution_count": 11,
   "id": "bed19a8b",
   "metadata": {},
   "outputs": [
    {
     "data": {
      "text/html": [
       "<div>\n",
       "<style scoped>\n",
       "    .dataframe tbody tr th:only-of-type {\n",
       "        vertical-align: middle;\n",
       "    }\n",
       "\n",
       "    .dataframe tbody tr th {\n",
       "        vertical-align: top;\n",
       "    }\n",
       "\n",
       "    .dataframe thead th {\n",
       "        text-align: right;\n",
       "    }\n",
       "</style>\n",
       "<table border=\"1\" class=\"dataframe\">\n",
       "  <thead>\n",
       "    <tr style=\"text-align: right;\">\n",
       "      <th></th>\n",
       "      <th>latitude</th>\n",
       "      <th>longitude</th>\n",
       "      <th>housing_median_age</th>\n",
       "      <th>total_rooms</th>\n",
       "      <th>total_bedrooms</th>\n",
       "      <th>population</th>\n",
       "      <th>households</th>\n",
       "      <th>median_income</th>\n",
       "      <th>bedrooms_per_room</th>\n",
       "      <th>population_per_household</th>\n",
       "      <th>above_average</th>\n",
       "    </tr>\n",
       "  </thead>\n",
       "  <tbody>\n",
       "    <tr>\n",
       "      <th>latitude</th>\n",
       "      <td>1.000000</td>\n",
       "      <td>-0.923981</td>\n",
       "      <td>0.008003</td>\n",
       "      <td>-0.032579</td>\n",
       "      <td>-0.065859</td>\n",
       "      <td>-0.108276</td>\n",
       "      <td>-0.069372</td>\n",
       "      <td>-0.077705</td>\n",
       "      <td>-0.123190</td>\n",
       "      <td>0.007836</td>\n",
       "      <td>-0.100524</td>\n",
       "    </tr>\n",
       "    <tr>\n",
       "      <th>longitude</th>\n",
       "      <td>-0.923981</td>\n",
       "      <td>1.000000</td>\n",
       "      <td>-0.105167</td>\n",
       "      <td>0.040254</td>\n",
       "      <td>0.067978</td>\n",
       "      <td>0.099033</td>\n",
       "      <td>0.054140</td>\n",
       "      <td>-0.018263</td>\n",
       "      <td>0.102873</td>\n",
       "      <td>-0.002868</td>\n",
       "      <td>-0.071535</td>\n",
       "    </tr>\n",
       "    <tr>\n",
       "      <th>housing_median_age</th>\n",
       "      <td>0.008003</td>\n",
       "      <td>-0.105167</td>\n",
       "      <td>1.000000</td>\n",
       "      <td>-0.360765</td>\n",
       "      <td>-0.318483</td>\n",
       "      <td>-0.293700</td>\n",
       "      <td>-0.300811</td>\n",
       "      <td>-0.117351</td>\n",
       "      <td>0.133170</td>\n",
       "      <td>0.016511</td>\n",
       "      <td>0.083542</td>\n",
       "    </tr>\n",
       "    <tr>\n",
       "      <th>total_rooms</th>\n",
       "      <td>-0.032579</td>\n",
       "      <td>0.040254</td>\n",
       "      <td>-0.360765</td>\n",
       "      <td>1.000000</td>\n",
       "      <td>0.928249</td>\n",
       "      <td>0.856030</td>\n",
       "      <td>0.920379</td>\n",
       "      <td>0.198950</td>\n",
       "      <td>-0.187250</td>\n",
       "      <td>-0.025631</td>\n",
       "      <td>0.125632</td>\n",
       "    </tr>\n",
       "    <tr>\n",
       "      <th>total_bedrooms</th>\n",
       "      <td>-0.065859</td>\n",
       "      <td>0.067978</td>\n",
       "      <td>-0.318483</td>\n",
       "      <td>0.928249</td>\n",
       "      <td>1.000000</td>\n",
       "      <td>0.878468</td>\n",
       "      <td>0.982014</td>\n",
       "      <td>-0.011577</td>\n",
       "      <td>0.088870</td>\n",
       "      <td>-0.028789</td>\n",
       "      <td>0.052670</td>\n",
       "    </tr>\n",
       "    <tr>\n",
       "      <th>population</th>\n",
       "      <td>-0.108276</td>\n",
       "      <td>0.099033</td>\n",
       "      <td>-0.293700</td>\n",
       "      <td>0.856030</td>\n",
       "      <td>0.878468</td>\n",
       "      <td>1.000000</td>\n",
       "      <td>0.905168</td>\n",
       "      <td>0.002187</td>\n",
       "      <td>0.040768</td>\n",
       "      <td>0.075029</td>\n",
       "      <td>-0.019424</td>\n",
       "    </tr>\n",
       "    <tr>\n",
       "      <th>households</th>\n",
       "      <td>-0.069372</td>\n",
       "      <td>0.054140</td>\n",
       "      <td>-0.300811</td>\n",
       "      <td>0.920379</td>\n",
       "      <td>0.982014</td>\n",
       "      <td>0.905168</td>\n",
       "      <td>1.000000</td>\n",
       "      <td>0.010285</td>\n",
       "      <td>0.069165</td>\n",
       "      <td>-0.028089</td>\n",
       "      <td>0.069874</td>\n",
       "    </tr>\n",
       "    <tr>\n",
       "      <th>median_income</th>\n",
       "      <td>-0.077705</td>\n",
       "      <td>-0.018263</td>\n",
       "      <td>-0.117351</td>\n",
       "      <td>0.198950</td>\n",
       "      <td>-0.011577</td>\n",
       "      <td>0.002187</td>\n",
       "      <td>0.010285</td>\n",
       "      <td>1.000000</td>\n",
       "      <td>-0.609009</td>\n",
       "      <td>0.026145</td>\n",
       "      <td>0.543810</td>\n",
       "    </tr>\n",
       "    <tr>\n",
       "      <th>bedrooms_per_room</th>\n",
       "      <td>-0.123190</td>\n",
       "      <td>0.102873</td>\n",
       "      <td>0.133170</td>\n",
       "      <td>-0.187250</td>\n",
       "      <td>0.088870</td>\n",
       "      <td>0.040768</td>\n",
       "      <td>0.069165</td>\n",
       "      <td>-0.609009</td>\n",
       "      <td>1.000000</td>\n",
       "      <td>0.005026</td>\n",
       "      <td>-0.221912</td>\n",
       "    </tr>\n",
       "    <tr>\n",
       "      <th>population_per_household</th>\n",
       "      <td>0.007836</td>\n",
       "      <td>-0.002868</td>\n",
       "      <td>0.016511</td>\n",
       "      <td>-0.025631</td>\n",
       "      <td>-0.028789</td>\n",
       "      <td>0.075029</td>\n",
       "      <td>-0.028089</td>\n",
       "      <td>0.026145</td>\n",
       "      <td>0.005026</td>\n",
       "      <td>1.000000</td>\n",
       "      <td>-0.020901</td>\n",
       "    </tr>\n",
       "    <tr>\n",
       "      <th>above_average</th>\n",
       "      <td>-0.100524</td>\n",
       "      <td>-0.071535</td>\n",
       "      <td>0.083542</td>\n",
       "      <td>0.125632</td>\n",
       "      <td>0.052670</td>\n",
       "      <td>-0.019424</td>\n",
       "      <td>0.069874</td>\n",
       "      <td>0.543810</td>\n",
       "      <td>-0.221912</td>\n",
       "      <td>-0.020901</td>\n",
       "      <td>1.000000</td>\n",
       "    </tr>\n",
       "  </tbody>\n",
       "</table>\n",
       "</div>"
      ],
      "text/plain": [
       "                          latitude  longitude  housing_median_age  \\\n",
       "latitude                  1.000000  -0.923981            0.008003   \n",
       "longitude                -0.923981   1.000000           -0.105167   \n",
       "housing_median_age        0.008003  -0.105167            1.000000   \n",
       "total_rooms              -0.032579   0.040254           -0.360765   \n",
       "total_bedrooms           -0.065859   0.067978           -0.318483   \n",
       "population               -0.108276   0.099033           -0.293700   \n",
       "households               -0.069372   0.054140           -0.300811   \n",
       "median_income            -0.077705  -0.018263           -0.117351   \n",
       "bedrooms_per_room        -0.123190   0.102873            0.133170   \n",
       "population_per_household  0.007836  -0.002868            0.016511   \n",
       "above_average            -0.100524  -0.071535            0.083542   \n",
       "\n",
       "                          total_rooms  total_bedrooms  population  households  \\\n",
       "latitude                    -0.032579       -0.065859   -0.108276   -0.069372   \n",
       "longitude                    0.040254        0.067978    0.099033    0.054140   \n",
       "housing_median_age          -0.360765       -0.318483   -0.293700   -0.300811   \n",
       "total_rooms                  1.000000        0.928249    0.856030    0.920379   \n",
       "total_bedrooms               0.928249        1.000000    0.878468    0.982014   \n",
       "population                   0.856030        0.878468    1.000000    0.905168   \n",
       "households                   0.920379        0.982014    0.905168    1.000000   \n",
       "median_income                0.198950       -0.011577    0.002187    0.010285   \n",
       "bedrooms_per_room           -0.187250        0.088870    0.040768    0.069165   \n",
       "population_per_household    -0.025631       -0.028789    0.075029   -0.028089   \n",
       "above_average                0.125632        0.052670   -0.019424    0.069874   \n",
       "\n",
       "                          median_income  bedrooms_per_room  \\\n",
       "latitude                      -0.077705          -0.123190   \n",
       "longitude                     -0.018263           0.102873   \n",
       "housing_median_age            -0.117351           0.133170   \n",
       "total_rooms                    0.198950          -0.187250   \n",
       "total_bedrooms                -0.011577           0.088870   \n",
       "population                     0.002187           0.040768   \n",
       "households                     0.010285           0.069165   \n",
       "median_income                  1.000000          -0.609009   \n",
       "bedrooms_per_room             -0.609009           1.000000   \n",
       "population_per_household       0.026145           0.005026   \n",
       "above_average                  0.543810          -0.221912   \n",
       "\n",
       "                          population_per_household  above_average  \n",
       "latitude                                  0.007836      -0.100524  \n",
       "longitude                                -0.002868      -0.071535  \n",
       "housing_median_age                        0.016511       0.083542  \n",
       "total_rooms                              -0.025631       0.125632  \n",
       "total_bedrooms                           -0.028789       0.052670  \n",
       "population                                0.075029      -0.019424  \n",
       "households                               -0.028089       0.069874  \n",
       "median_income                             0.026145       0.543810  \n",
       "bedrooms_per_room                         0.005026      -0.221912  \n",
       "population_per_household                  1.000000      -0.020901  \n",
       "above_average                            -0.020901       1.000000  "
      ]
     },
     "execution_count": 11,
     "metadata": {},
     "output_type": "execute_result"
    }
   ],
   "source": [
    "#Q2\n",
    "corr_x = x_train.corr()\n",
    "corr_x"
   ]
  },
  {
   "cell_type": "code",
   "execution_count": 12,
   "id": "0484ce9e",
   "metadata": {},
   "outputs": [
    {
     "data": {
      "text/plain": [
       "0.1"
      ]
     },
     "execution_count": 12,
     "metadata": {},
     "output_type": "execute_result"
    }
   ],
   "source": [
    "#Q3\n",
    "from sklearn.metrics import mutual_info_score\n",
    "score = mutual_info_score(x_train.ocean_proximity, x_train.above_average)\n",
    "round(score, 2)"
   ]
  },
  {
   "cell_type": "code",
   "execution_count": 13,
   "id": "979c0ffa",
   "metadata": {},
   "outputs": [],
   "source": [
    "x = file.drop(\"above_average\", axis = 1)\n",
    "y = file[\"above_average\"]"
   ]
  },
  {
   "cell_type": "code",
   "execution_count": 14,
   "id": "8b8b42b3",
   "metadata": {},
   "outputs": [],
   "source": [
    "#Q4\n",
    "from sklearn.linear_model import LogisticRegression\n",
    "from sklearn.metrics import accuracy_score"
   ]
  },
  {
   "cell_type": "code",
   "execution_count": 15,
   "id": "4610619e",
   "metadata": {},
   "outputs": [],
   "source": [
    "xnew = pd.get_dummies(x, columns = [\"ocean_proximity\"])"
   ]
  },
  {
   "cell_type": "code",
   "execution_count": 16,
   "id": "6870744d",
   "metadata": {},
   "outputs": [],
   "source": [
    "xn_train,xn_t,yn_train,yn_t = train_test_split(xnew, y, test_size = 0.4, random_state = 42)\n",
    "xn_test,xn_val,yn_test,yn_val = train_test_split(xn_t,yn_t, test_size = 0.5, random_state = 42)"
   ]
  },
  {
   "cell_type": "code",
   "execution_count": 17,
   "id": "d825c9ad",
   "metadata": {},
   "outputs": [
    {
     "data": {
      "text/plain": [
       "LogisticRegression(max_iter=1000, random_state=42, solver='liblinear')"
      ]
     },
     "execution_count": 17,
     "metadata": {},
     "output_type": "execute_result"
    }
   ],
   "source": [
    "model = LogisticRegression(solver=\"liblinear\", C=1.0, max_iter=1000, random_state=42)\n",
    "model.fit(xn_train,yn_train)"
   ]
  },
  {
   "cell_type": "code",
   "execution_count": 18,
   "id": "ae0bc6f3",
   "metadata": {},
   "outputs": [],
   "source": [
    "y_pred = model.predict(xn_val)\n",
    "score = accuracy_score(y_pred,yn_val)"
   ]
  },
  {
   "cell_type": "code",
   "execution_count": 19,
   "id": "646e3821",
   "metadata": {},
   "outputs": [
    {
     "data": {
      "text/plain": [
       "0.99"
      ]
     },
     "execution_count": 19,
     "metadata": {},
     "output_type": "execute_result"
    }
   ],
   "source": [
    "round(score, 2)"
   ]
  },
  {
   "cell_type": "code",
   "execution_count": 23,
   "id": "c835d4fd",
   "metadata": {},
   "outputs": [],
   "source": [
    "#Q5\n",
    "feat = [\"total_rooms\",\"total_bedrooms\",\"population\",\"households\"]\n",
    "scores = []\n",
    "for i in feat:\n",
    "    xnewi = xnew.drop(i, axis = 1)\n",
    "    xn_traini,xn_ti,yn_traini,yn_ti = train_test_split(xnewi, y, test_size = 0.4, random_state = 42)\n",
    "    xn_testi,xn_vali,yn_testi,yn_vali = train_test_split(xn_ti,yn_ti, test_size = 0.5, random_state = 42)\n",
    "    new_model = LogisticRegression(solver=\"liblinear\", C=1.0, max_iter=1000, random_state=42)\n",
    "    new_model.fit(xn_traini,yn_traini)\n",
    "    y_predi = new_model.predict(xn_vali)\n",
    "    score = accuracy_score(y_predi,yn_vali)\n",
    "    scores.append(score)\n",
    "min_feat = feat[scores.index(min(scores))]"
   ]
  },
  {
   "cell_type": "code",
   "execution_count": 24,
   "id": "8afa99a9",
   "metadata": {},
   "outputs": [
    {
     "name": "stdout",
     "output_type": "stream",
     "text": [
      "population\n"
     ]
    }
   ],
   "source": [
    "print(min_feat)"
   ]
  },
  {
   "cell_type": "code",
   "execution_count": 27,
   "id": "7c64eb2b",
   "metadata": {},
   "outputs": [
    {
     "data": {
      "text/plain": [
       "0"
      ]
     },
     "execution_count": 27,
     "metadata": {},
     "output_type": "execute_result"
    }
   ],
   "source": [
    "#Q6\n",
    "from sklearn.linear_model import Ridge\n",
    "from sklearn.metrics import mean_squared_error\n",
    "import math\n",
    "alphas = [0, 0.01, 0.1, 1, 10]\n",
    "xn = file.drop(\"median_house_value\", axis = 1)\n",
    "yn = np.log1p(file[\"median_house_value\"])\n",
    "xn = pd.get_dummies(xn, columns = [\"ocean_proximity\"])\n",
    "x_trainp,x_tp,y_trainp,y_tp = train_test_split(xn, yn, test_size = 0.4, random_state = 42)\n",
    "x_testp,x_valp,y_testp,y_valp = train_test_split(x_tp,y_tp, test_size = 0.5, random_state = 42)\n",
    "errors = []\n",
    "for a in alphas:\n",
    "    rd = Ridge(alpha = a, solver=\"sag\", random_state=42)\n",
    "    model2 = rd.fit(x_trainp, y_trainp)\n",
    "    y_new = model2.predict(x_valp)\n",
    "    error = round(math.sqrt(mean_squared_error(y_new, y_valp)),3)\n",
    "    errors.append(error)\n",
    "min_alpha = alphas[errors.index(min(errors))]\n",
    "min_alpha"
   ]
  },
  {
   "cell_type": "code",
   "execution_count": null,
   "id": "41022136",
   "metadata": {},
   "outputs": [],
   "source": []
  }
 ],
 "metadata": {
  "kernelspec": {
   "display_name": "Python 3 (ipykernel)",
   "language": "python",
   "name": "python3"
  },
  "language_info": {
   "codemirror_mode": {
    "name": "ipython",
    "version": 3
   },
   "file_extension": ".py",
   "mimetype": "text/x-python",
   "name": "python",
   "nbconvert_exporter": "python",
   "pygments_lexer": "ipython3",
   "version": "3.9.7"
  }
 },
 "nbformat": 4,
 "nbformat_minor": 5
}
